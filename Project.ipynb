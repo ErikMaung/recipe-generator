{
  "cells": [
    {
      "cell_type": "code",
      "execution_count": 2,
      "id": "8eb1551b-9bc1-4694-9d9c-7154b1b7414c",
      "metadata": {
        "tags": [],
        "id": "8eb1551b-9bc1-4694-9d9c-7154b1b7414c"
      },
      "outputs": [],
      "source": [
        "import pandas as pd\n",
        "import numpy as np\n",
        "import re\n",
        "import string\n",
        "# import tensorflow as tf\n",
        "from tensorflow.keras.preprocessing.text import Tokenizer\n",
        "from tensorflow.keras.preprocessing.sequence import pad_sequences\n",
        "from tensorflow.keras.models import Sequential\n",
        "from tensorflow.keras.layers import Embedding, LSTM, Dense"
      ]
    },
    {
      "cell_type": "code",
      "source": [
        "# from google.colab import drive # COLAB\n",
        "# drive.mount('/content/drive') # COLAB\n",
        "# data = pd.read_csv('/content/drive/MyDrive/2023-2024/156/review-generator/reviews.csv') # COLAB\n",
        "data = pd.read_csv(\"reviews.csv\") # Jupyter\n",
        "data.head()"
      ],
      "metadata": {
        "colab": {
          "base_uri": "https://localhost:8080/"
        },
        "id": "BEaC-UznbRp1",
        "outputId": "1ba64ec0-15bd-4171-863f-b7e0da04b81b"
      },
      "id": "BEaC-UznbRp1",
      "execution_count": 2,
      "outputs": [
        {
          "output_type": "stream",
          "name": "stdout",
          "text": [
            "Mounted at /content/drive\n"
          ]
        }
      ]
    },
    {
      "cell_type": "code",
      "execution_count": 4,
      "id": "35e03860-4ec5-4d48-b666-6710e8174bc0",
      "metadata": {
        "tags": [],
        "id": "35e03860-4ec5-4d48-b666-6710e8174bc0"
      },
      "outputs": [],
      "source": [
        "# Preprocessing Data\n",
        "import pandas as pd\n",
        "import re # Module for working with regular expressions\n",
        "from tensorflow.keras.preprocessing.text import Tokenizer # Module for tokenizing data\n",
        "\n",
        "\n",
        "def clean(data, column):\n",
        "    clean_data = (data[column] # Reduce the data to a specific column\n",
        "                .str.lower() # Convert to lowercase\n",
        "                .apply(lambda x: re.sub('<.*?>', ' ', x)) # Replace HTML tags with a space\n",
        "                .apply(lambda x: re.sub(r'[^\\w\\s]', '', x)) # Remove punctuation\n",
        "                .apply(lambda x: re.sub(r'\\s{2,}', ' ', x)) # Replace 2+ consecutive spaces with a single space\n",
        "                .drop_duplicates()) # Remove duplicates\n",
        "    return clean_data\n",
        "\n",
        "def tokenize(text_data):\n",
        "    tokenizer = Tokenizer() # Initialize a Tokenizer\n",
        "    tokenizer.fit_on_texts(text_data) # Learn the vocabulary from the text data\n",
        "    return tokenizer\n"
      ]
    },
    {
      "cell_type": "code",
      "execution_count": 18,
      "id": "ff672c1c-ecd7-4134-b912-4a25e1a7f82c",
      "metadata": {
        "tags": [],
        "id": "ff672c1c-ecd7-4134-b912-4a25e1a7f82c",
        "colab": {
          "base_uri": "https://localhost:8080/"
        },
        "outputId": "376774c4-c53a-468a-bd6e-8c96dde5fa59"
      },
      "outputs": [
        {
          "output_type": "stream",
          "name": "stdout",
          "text": [
            "4961    this is not great cinema the film is cliche ri...\n",
            "4962    personnaly i really loved this movie and it pa...\n",
            "4963    first the current imdb plot description seems ...\n",
            "4964    if you want a serious laugh pain watch this mo...\n",
            "4965    carlito way the original is a brilliant story ...\n",
            "                              ...                        \n",
            "9928    one of those tv films you saw in the seventies...\n",
            "9929    its rare for a movie to both encompass the pro...\n",
            "9930    the drug years actually suffers from one of th...\n",
            "9931    i loved this movie from the opening sequence r...\n",
            "9932    whether one views him as a gallant cavalier of...\n",
            "Name: review, Length: 4958, dtype: object\n",
            "9933     this is an absolutely true and faithful adapta...\n",
            "9934     this is a typical low budget 1970s mess its su...\n",
            "9935      robot jox is a great little film ok some of t...\n",
            "9936     i thought it was one of the best sequels i hav...\n",
            "9937     enchanting the best time to see this movie is ...\n",
            "                               ...                        \n",
            "14908    in a summer that also boasted such repugnant s...\n",
            "14909    spoilers beware flashdance is a fair movie in ...\n",
            "14910    each of the major studios cranked out jazzy on...\n",
            "14911    my name is earl2005 reviewfor i have seen this...\n",
            "14912    as if the storyline wasnt depressing enough th...\n",
            "Name: review, Length: 4958, dtype: object\n",
            "0        one of the other reviewers has mentioned that ...\n",
            "1        a wonderful little production the filming tech...\n",
            "2        i thought this was a wonderful way to spend ti...\n",
            "3        basically theres a family where a little boy j...\n",
            "4        petter matteis love in the time of money is a ...\n",
            "                               ...                        \n",
            "49995    i thought this movie did a down right good job...\n",
            "49996    bad plot bad dialogue bad acting idiotic direc...\n",
            "49997    i am a catholic taught in parochial elementary...\n",
            "49998    im going to have to disagree with the previous...\n",
            "49999    no one expects the star trek movies to be high...\n",
            "Name: review, Length: 49579, dtype: object\n"
          ]
        }
      ],
      "source": [
        "text = clean(data, 'review')\n",
        "\n",
        "textChunks = [t for t in np.array_split(text, 10)]\n",
        "print(textChunks[1])\n",
        "print(textChunks[2])\n",
        "print(text)"
      ]
    },
    {
      "cell_type": "code",
      "execution_count": 19,
      "id": "07829eb8-22f3-44a1-824d-e9dd48adcca7",
      "metadata": {
        "tags": [],
        "id": "07829eb8-22f3-44a1-824d-e9dd48adcca7",
        "colab": {
          "base_uri": "https://localhost:8080/"
        },
        "outputId": "bcffbb33-2ed8-4912-c1c1-508448054c56"
      },
      "outputs": [
        {
          "output_type": "stream",
          "name": "stdout",
          "text": [
            "167324\n"
          ]
        }
      ],
      "source": [
        "# Tokenize Data\n",
        "# represent each word as a numerical value\n",
        "tokenizer = Tokenizer()\n",
        "tokenizer.fit_on_texts(text)\n",
        "# for text in textChunks: # for EACH chunk of text data (broken up to avoid overloading RAM)\n",
        "#  tokenizer.fit_on_texts(text) # fit on series of text\n",
        "total_words = len(tokenizer.word_index) + 1 # length of word index\n",
        "print(total_words) # Checkpoint: should return 167324"
      ]
    },
    {
      "cell_type": "code",
      "execution_count": null,
      "id": "7c2b84e1-c87b-4f87-93d9-7a3050d35b16",
      "metadata": {
        "id": "7c2b84e1-c87b-4f87-93d9-7a3050d35b16"
      },
      "outputs": [],
      "source": [
        "# Function to map integers and input sequences\n",
        "def map_sequence(input_sequences, text):\n",
        "  for line in text: # for each review\n",
        "    token_list = tokenizer.texts_to_sequences([line])[0] # map each unique word to an integer with tokenizer\n",
        "    # Creating n gram for each review\n",
        "    for i in range(1, len(token_list)):\n",
        "        n_gram_sequence = token_list[:i+1]\n",
        "        input_sequences.append(n_gram_sequence) # input_sequences is a list of sequences from tokenized reviews\n",
        "  # padding sequences so each sequence in input_sequences has the same length\n",
        "  max_sequence_len = max([len(x) for x in input_sequences]) # identify length of largest sequence\n",
        "  input_sequences.extend(pad_sequences(input_sequences, maxlen=max_sequence_len, padding='pre')) # pad sequences with zeroe\n",
        "\n",
        "# Create input_sequences\n",
        "input_sequences = []\n",
        "# Below, I attempted to break up the map_sequence into individual lines. I didn't do a for loop\n",
        "# concerned that the memory would overload and crash, but the same crashing happens here anyways.\n",
        "# Problem has NOT been fixed yet with this code:\n",
        "map_sequence(input_sequences, textChunks[0])\n",
        "map_sequence(input_sequences, textChunks[1])\n",
        "map_sequence(input_sequences, textChunks[2])\n",
        "map_sequence(input_sequences, textChunks[3])\n",
        "map_sequence(input_sequences, textChunks[4])\n",
        "map_sequence(input_sequences, textChunks[5])\n",
        "map_sequence(input_sequences, textChunks[6])\n",
        "map_sequence(input_sequences, textChunks[7])\n",
        "map_sequence(input_sequences, textChunks[8])\n",
        "map_sequence(input_sequences, textChunks[9])"
      ]
    },
    {
      "cell_type": "code",
      "source": [],
      "metadata": {
        "id": "6Kzv2lorjGT5"
      },
      "id": "6Kzv2lorjGT5",
      "execution_count": null,
      "outputs": []
    }
  ],
  "metadata": {
    "kernelspec": {
      "display_name": "Python 3",
      "name": "python3"
    },
    "language_info": {
      "codemirror_mode": {
        "name": "ipython",
        "version": 3
      },
      "file_extension": ".py",
      "mimetype": "text/x-python",
      "name": "python",
      "nbconvert_exporter": "python",
      "pygments_lexer": "ipython3",
      "version": "3.8.10"
    },
    "colab": {
      "provenance": [],
      "gpuType": "T4"
    },
    "accelerator": "GPU"
  },
  "nbformat": 4,
  "nbformat_minor": 5
}