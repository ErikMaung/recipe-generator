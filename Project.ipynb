{
 "cells": [
  {
   "cell_type": "code",
   "execution_count": 1,
   "id": "8eb1551b-9bc1-4694-9d9c-7154b1b7414c",
   "metadata": {
    "tags": []
   },
   "outputs": [
    {
     "name": "stderr",
     "output_type": "stream",
     "text": [
      "[nltk_data] Downloading package punkt to /Users/sarah/nltk_data...\n",
      "[nltk_data]   Package punkt is already up-to-date!\n"
     ]
    }
   ],
   "source": [
    "%run word_generator"
   ]
  },
  {
   "cell_type": "code",
   "execution_count": 2,
   "id": "3661fb9c-46a9-43bf-8144-7e4e63bcd681",
   "metadata": {
    "tags": []
   },
   "outputs": [
    {
     "data": {
      "text/html": [
       "<div>\n",
       "<style scoped>\n",
       "    .dataframe tbody tr th:only-of-type {\n",
       "        vertical-align: middle;\n",
       "    }\n",
       "\n",
       "    .dataframe tbody tr th {\n",
       "        vertical-align: top;\n",
       "    }\n",
       "\n",
       "    .dataframe thead th {\n",
       "        text-align: right;\n",
       "    }\n",
       "</style>\n",
       "<table border=\"1\" class=\"dataframe\">\n",
       "  <thead>\n",
       "    <tr style=\"text-align: right;\">\n",
       "      <th></th>\n",
       "      <th>review</th>\n",
       "      <th>sentiment</th>\n",
       "    </tr>\n",
       "  </thead>\n",
       "  <tbody>\n",
       "    <tr>\n",
       "      <th>0</th>\n",
       "      <td>One of the other reviewers has mentioned that ...</td>\n",
       "      <td>positive</td>\n",
       "    </tr>\n",
       "    <tr>\n",
       "      <th>1</th>\n",
       "      <td>A wonderful little production. &lt;br /&gt;&lt;br /&gt;The...</td>\n",
       "      <td>positive</td>\n",
       "    </tr>\n",
       "    <tr>\n",
       "      <th>2</th>\n",
       "      <td>I thought this was a wonderful way to spend ti...</td>\n",
       "      <td>positive</td>\n",
       "    </tr>\n",
       "    <tr>\n",
       "      <th>3</th>\n",
       "      <td>Basically there's a family where a little boy ...</td>\n",
       "      <td>negative</td>\n",
       "    </tr>\n",
       "    <tr>\n",
       "      <th>4</th>\n",
       "      <td>Petter Mattei's \"Love in the Time of Money\" is...</td>\n",
       "      <td>positive</td>\n",
       "    </tr>\n",
       "  </tbody>\n",
       "</table>\n",
       "</div>"
      ],
      "text/plain": [
       "                                              review sentiment\n",
       "0  One of the other reviewers has mentioned that ...  positive\n",
       "1  A wonderful little production. <br /><br />The...  positive\n",
       "2  I thought this was a wonderful way to spend ti...  positive\n",
       "3  Basically there's a family where a little boy ...  negative\n",
       "4  Petter Mattei's \"Love in the Time of Money\" is...  positive"
      ]
     },
     "execution_count": 2,
     "metadata": {},
     "output_type": "execute_result"
    }
   ],
   "source": [
    "data = pd.read_csv(\"reviews.csv\")\n",
    "data.head()"
   ]
  },
  {
   "cell_type": "code",
   "execution_count": 3,
   "id": "8e2ec218-45fc-4281-883d-e5e14aea9775",
   "metadata": {
    "tags": []
   },
   "outputs": [
    {
     "data": {
      "text/plain": [
       "(50000, 2)"
      ]
     },
     "execution_count": 3,
     "metadata": {},
     "output_type": "execute_result"
    }
   ],
   "source": [
    "data.shape"
   ]
  },
  {
   "cell_type": "code",
   "execution_count": 4,
   "id": "d7a1802f-364c-4428-9f0a-dc014dc0b864",
   "metadata": {
    "tags": []
   },
   "outputs": [
    {
     "data": {
      "text/html": [
       "<div>\n",
       "<style scoped>\n",
       "    .dataframe tbody tr th:only-of-type {\n",
       "        vertical-align: middle;\n",
       "    }\n",
       "\n",
       "    .dataframe tbody tr th {\n",
       "        vertical-align: top;\n",
       "    }\n",
       "\n",
       "    .dataframe thead th {\n",
       "        text-align: right;\n",
       "    }\n",
       "</style>\n",
       "<table border=\"1\" class=\"dataframe\">\n",
       "  <thead>\n",
       "    <tr style=\"text-align: right;\">\n",
       "      <th></th>\n",
       "      <th>review</th>\n",
       "      <th>sentiment</th>\n",
       "      <th>new_data</th>\n",
       "    </tr>\n",
       "  </thead>\n",
       "  <tbody>\n",
       "    <tr>\n",
       "      <th>0</th>\n",
       "      <td>One of the other reviewers has mentioned that ...</td>\n",
       "      <td>positive</td>\n",
       "      <td>One of the other reviewers has mentioned that ...</td>\n",
       "    </tr>\n",
       "    <tr>\n",
       "      <th>1</th>\n",
       "      <td>A wonderful little production.   The filming t...</td>\n",
       "      <td>positive</td>\n",
       "      <td>A wonderful little production.    The filming ...</td>\n",
       "    </tr>\n",
       "    <tr>\n",
       "      <th>2</th>\n",
       "      <td>I thought this was a wonderful way to spend ti...</td>\n",
       "      <td>positive</td>\n",
       "      <td>I thought this was a wonderful way to spend ti...</td>\n",
       "    </tr>\n",
       "    <tr>\n",
       "      <th>3</th>\n",
       "      <td>Basically there's a family where a little boy ...</td>\n",
       "      <td>negative</td>\n",
       "      <td>Basically there's a family where a little boy ...</td>\n",
       "    </tr>\n",
       "    <tr>\n",
       "      <th>4</th>\n",
       "      <td>Petter Mattei's \"Love in the Time of Money\" is...</td>\n",
       "      <td>positive</td>\n",
       "      <td>Petter Mattei's \"Love in the Time of Money\" is...</td>\n",
       "    </tr>\n",
       "    <tr>\n",
       "      <th>5</th>\n",
       "      <td>Probably my all-time favorite movie, a story o...</td>\n",
       "      <td>positive</td>\n",
       "      <td>Probably my all-time favorite movie, a story o...</td>\n",
       "    </tr>\n",
       "    <tr>\n",
       "      <th>6</th>\n",
       "      <td>I sure would like to see a resurrection of a u...</td>\n",
       "      <td>positive</td>\n",
       "      <td>I sure would like to see a resurrection of a u...</td>\n",
       "    </tr>\n",
       "    <tr>\n",
       "      <th>7</th>\n",
       "      <td>This show was an amazing, fresh &amp; innovative i...</td>\n",
       "      <td>negative</td>\n",
       "      <td>This show was an amazing, fresh &amp; innovative i...</td>\n",
       "    </tr>\n",
       "    <tr>\n",
       "      <th>8</th>\n",
       "      <td>Encouraged by the positive comments about this...</td>\n",
       "      <td>negative</td>\n",
       "      <td>Encouraged by the positive comments about this...</td>\n",
       "    </tr>\n",
       "    <tr>\n",
       "      <th>9</th>\n",
       "      <td>If you like original gut wrenching laughter yo...</td>\n",
       "      <td>positive</td>\n",
       "      <td>If you like original gut wrenching laughter yo...</td>\n",
       "    </tr>\n",
       "  </tbody>\n",
       "</table>\n",
       "</div>"
      ],
      "text/plain": [
       "                                              review sentiment  \\\n",
       "0  One of the other reviewers has mentioned that ...  positive   \n",
       "1  A wonderful little production.   The filming t...  positive   \n",
       "2  I thought this was a wonderful way to spend ti...  positive   \n",
       "3  Basically there's a family where a little boy ...  negative   \n",
       "4  Petter Mattei's \"Love in the Time of Money\" is...  positive   \n",
       "5  Probably my all-time favorite movie, a story o...  positive   \n",
       "6  I sure would like to see a resurrection of a u...  positive   \n",
       "7  This show was an amazing, fresh & innovative i...  negative   \n",
       "8  Encouraged by the positive comments about this...  negative   \n",
       "9  If you like original gut wrenching laughter yo...  positive   \n",
       "\n",
       "                                            new_data  \n",
       "0  One of the other reviewers has mentioned that ...  \n",
       "1  A wonderful little production.    The filming ...  \n",
       "2  I thought this was a wonderful way to spend ti...  \n",
       "3  Basically there's a family where a little boy ...  \n",
       "4  Petter Mattei's \"Love in the Time of Money\" is...  \n",
       "5  Probably my all-time favorite movie, a story o...  \n",
       "6  I sure would like to see a resurrection of a u...  \n",
       "7  This show was an amazing, fresh & innovative i...  \n",
       "8  Encouraged by the positive comments about this...  \n",
       "9  If you like original gut wrenching laughter yo...  "
      ]
     },
     "execution_count": 4,
     "metadata": {},
     "output_type": "execute_result"
    }
   ],
   "source": [
    "new_data = modify_data(data, \"review\", div = 50, min_words = 20, min_sent = 2)\n",
    "new_data[:10]"
   ]
  },
  {
   "cell_type": "code",
   "execution_count": 5,
   "id": "92d647a4-2e9f-4b49-a20f-9819a0bfd644",
   "metadata": {
    "tags": []
   },
   "outputs": [
    {
     "data": {
      "text/plain": [
       "(1000, 3)"
      ]
     },
     "execution_count": 5,
     "metadata": {},
     "output_type": "execute_result"
    }
   ],
   "source": [
    "new_data.shape"
   ]
  },
  {
   "cell_type": "code",
   "execution_count": 6,
   "id": "ff672c1c-ecd7-4134-b912-4a25e1a7f82c",
   "metadata": {
    "tags": []
   },
   "outputs": [
    {
     "name": "stdout",
     "output_type": "stream",
     "text": [
      "0      one of the other reviewers has mentioned that ...\n",
      "1      a wonderful little production the filming tech...\n",
      "2      i thought this was a wonderful way to spend ti...\n",
      "3      basically theres a family where a little boy j...\n",
      "4      petter matteis love in the time of money is a ...\n",
      "                             ...                        \n",
      "995    nothing is sacred just ask ernie fosselius fil...\n",
      "996    i hated it i hate selfaware pretentious inanit...\n",
      "997    i usually try to be professional and construct...\n",
      "998    if you like me is going to see this in a film ...\n",
      "999    this is like a zoology textbook given that its...\n",
      "Name: new_data, Length: 1000, dtype: object\n"
     ]
    }
   ],
   "source": [
    "text = clean(new_data, 'new_data')\n",
    "print(text)"
   ]
  },
  {
   "cell_type": "code",
   "execution_count": 7,
   "id": "7d4e5431-cb23-479f-b1ee-8800637ff359",
   "metadata": {
    "tags": []
   },
   "outputs": [
    {
     "data": {
      "text/plain": [
       "(1000, pandas.core.series.Series)"
      ]
     },
     "execution_count": 7,
     "metadata": {},
     "output_type": "execute_result"
    }
   ],
   "source": [
    "len(text), type(text)"
   ]
  },
  {
   "cell_type": "code",
   "execution_count": 8,
   "id": "2ee06311-815f-4a19-988e-e643a7da6159",
   "metadata": {
    "tags": []
   },
   "outputs": [],
   "source": [
    "def split_data(data):\n",
    "    \"\"\"\n",
    "    The function splits the data into training, validation, and testing sets. The training data is 80% of the data, while the \n",
    "    validation and testing sets equally make up the other 20% of the data (they are both 10% of data).\n",
    "    @param data: a dataset\n",
    "    @rvalue train_data: 80% of original data\n",
    "    @rvalue val_data: 10% of original data\n",
    "    @rvalue test_data: 10% of original data\n",
    "    \"\"\"\n",
    "    # training data is 80% of data\n",
    "    train_data, temp_data = train_test_split(data, test_size=0.2, random_state=42) \n",
    "    # validation data and testing data are both 10% of data\n",
    "    val_data, test_data = train_test_split(temp_data, test_size=0.5, random_state=42) \n",
    "    return train_data, val_data, test_data"
   ]
  },
  {
   "cell_type": "code",
   "execution_count": 9,
   "id": "43ac4d3f-bbc0-43eb-ba6f-7e635149d796",
   "metadata": {
    "tags": []
   },
   "outputs": [
    {
     "data": {
      "text/plain": [
       "(800, 100, 100)"
      ]
     },
     "execution_count": 9,
     "metadata": {},
     "output_type": "execute_result"
    }
   ],
   "source": [
    "train_data, val_data, test_data = split_data(text)\n",
    "len(train_data), len(val_data), len(test_data)"
   ]
  },
  {
   "cell_type": "code",
   "execution_count": 10,
   "id": "1a9abbb1-d4e3-4177-a6ff-cea6822f6b25",
   "metadata": {
    "tags": []
   },
   "outputs": [],
   "source": [
    "def tokenize(train_data):\n",
    "    \"\"\"\n",
    "    This function tokenizes the training text data and then returns the train_data, total_words, and tokenizer.\n",
    "    @param text: string object\n",
    "    @rvalue text: string object tokenized\n",
    "    @rvalue total_words: length of word index + 1\n",
    "    @rvalue tokenizer: tokenizer from tensorflow package\n",
    "    \"\"\"\n",
    "    tokenizer = Tokenizer() \n",
    "    tokenizer.fit_on_texts(train_data) # fit on series of text\n",
    "    total_words = len(tokenizer.word_index) + 1 # length of word index\n",
    "    return train_data, tokenizer"
   ]
  },
  {
   "cell_type": "code",
   "execution_count": 11,
   "id": "4ad55975-eeb6-470c-988e-4de3e81272af",
   "metadata": {
    "tags": []
   },
   "outputs": [],
   "source": [
    "train_data, tokenizer = tokenize(train_data)"
   ]
  },
  {
   "cell_type": "code",
   "execution_count": 12,
   "id": "1113c732-4d3d-4d59-927a-ffe7c3a2c14e",
   "metadata": {
    "tags": []
   },
   "outputs": [],
   "source": [
    "def input_seq(train, val, test, tokenizer):\n",
    "    \"\"\"\n",
    "    This function creates input sequences for the Sequential model. The input sequences are created by using n grams of \n",
    "    each tokenized review. Each n gram in the sequence is then padded with zeros to the length of the largest n gram sequence\n",
    "    in the training data.The x variable represents the predictor data, meaning it is all the data in the input sequence, minus the last token. The \n",
    "    y variable is the target and what the model aims to predict. Therefor the y variable is the last token \"word\" in the input\n",
    "    sequences.\n",
    "    @param train, val, test: text objects with training, validation, and testing data\n",
    "    @param tokenizer: tokenizer object from tensorflow\n",
    "    @rvalue train_x, val_x, test_x: numpy arrays of integers (represents predictor data)\n",
    "    @rvalue train_y, val_y, test_y: numpy arrays of integers (represents target data)\n",
    "    @rvalue total_words: int, length of word index\n",
    "    \"\"\"\n",
    "    # create n gram sequences\n",
    "    def create_sequences(text):\n",
    "        \"\"\"\n",
    "        This function creates n gram sequences for the text.\n",
    "        @param text: string object\n",
    "        \"\"\"\n",
    "        input_sequences = []\n",
    "        for line in text: # for each review\n",
    "            token_list = tokenizer.texts_to_sequences([line])[0] # map each unique word to an integer with tokenizer\n",
    "            # Creating n gram for each review\n",
    "            for i in range(1, len(token_list)): \n",
    "                n_gram_sequence = token_list[:i+1]\n",
    "                input_sequences.append(n_gram_sequence) # input_sequences is a list of sequences from tokenized reviews\n",
    "        return input_sequences\n",
    "    \n",
    "    # total words\n",
    "    total_words = len(tokenizer.word_index) + 1\n",
    "    \n",
    "    # create n gram sequences for training, validation, and testing data\n",
    "    train_seq = create_sequences(train)\n",
    "    val_seq = create_sequences(val)\n",
    "    test_seq = create_sequences(test)\n",
    "    \n",
    "    # padding sequences so each sequence in input_sequences has the same length\n",
    "    max_sequence_len = max(max([len(x) for x in train_seq]),\n",
    "                           max([len(x) for x in val_seq]),\n",
    "                           max([len(x) for x in test_seq])) # identify length of largest sequence\n",
    "    \n",
    "    # pre pad sequences with zeros if length of max_sequence_len is not met\n",
    "    train_seq = pad_sequences(train_seq, maxlen=max_sequence_len, padding='pre')\n",
    "    val_seq = pad_sequences(val_seq, maxlen=max_sequence_len, padding='pre')\n",
    "    test_seq = pad_sequences(test_seq, maxlen=max_sequence_len, padding='pre')\n",
    "\n",
    "    # create predictor and target data \n",
    "    def split_sequences(sequences):\n",
    "        \"\"\"\n",
    "        @param sequences:\n",
    "        @rvalue x: numpy array of integers (represents predictor data)\n",
    "        @rvalue y: numpy array of integers (represents target data)\n",
    "        \"\"\"\n",
    "        x = sequences[:, :-1] # the tokenized sequences minus the last token\n",
    "        y = sequences[:, -1] # the last token for each tokenized sequence\n",
    "        return x, y\n",
    "    \n",
    "    # generate predictor and target data for training, validation, and testing data\n",
    "    train_x, train_y = split_sequences(train_seq)\n",
    "    val_x, val_y = split_sequences(val_seq)\n",
    "    test_x, test_y = split_sequences(test_seq)\n",
    "    \n",
    "    return train_x, train_y, val_x, val_y, test_x, test_y, total_words, max_sequence_len"
   ]
  },
  {
   "cell_type": "code",
   "execution_count": 13,
   "id": "44e80e0e-266a-434e-903b-2be583d89f5e",
   "metadata": {
    "tags": []
   },
   "outputs": [],
   "source": [
    "train_x, train_y, val_x, val_y, test_x, test_y, total_words, max_seq_len = input_seq(train_data, val_data, test_data, tokenizer)"
   ]
  },
  {
   "cell_type": "code",
   "execution_count": 14,
   "id": "f74c37e3-9c08-42dc-b24b-5dc5b758b776",
   "metadata": {
    "tags": []
   },
   "outputs": [],
   "source": [
    "def prepare_for_model(train_x, train_y, val_x, val_y, test_x, test_y, total_words):\n",
    "    \"\"\"\n",
    "    This function applies the one-hot encoding to the predictor data and then converts all the data into numpy arrays.\n",
    "    @param train_x, val_x, test_x: numpy arrays of integers (represents predictor data)\n",
    "    @param train_y, val_y, test_y: numpy arrays of integers (represents target data)\n",
    "    @rvalue train_x, val_x, test_x: numpy arrays of integers (represents predictor data)\n",
    "    @rvalue train_y, val_y, test_y: numpy arrays of one-hot encoded data (represents target data)\n",
    "    \"\"\"\n",
    "    # convert target data to binary class matrices\n",
    "    train_y = np.array(tf.keras.utils.to_categorical(train_y, num_classes=total_words))\n",
    "    val_y = np.array(tf.keras.utils.to_categorical(val_y, num_classes=total_words))\n",
    "    test_y = np.array(tf.keras.utils.to_categorical(test_y, num_classes=total_words))\n",
    "    \n",
    "    # convert data to numpy arrays to ensure model compatability\n",
    "    train_x = np.array(train_x)\n",
    "    train_y = np.array(train_y)\n",
    "    val_x = np.array(val_x)\n",
    "    val_y = np.array(val_y)\n",
    "    test_x = np.array(test_x)\n",
    "    test_y = np.array(test_y)\n",
    "    \n",
    "    return train_x, train_y, val_x, val_y, test_x, test_y"
   ]
  },
  {
   "cell_type": "code",
   "execution_count": 15,
   "id": "a263e805-8f2f-4b2d-b0ad-3c7b55a2e4fc",
   "metadata": {
    "tags": []
   },
   "outputs": [],
   "source": [
    "train_x, train_y, val_x, val_y, test_x, test_y = prepare_for_model(train_x, train_y, val_x, val_y, test_x, test_y, total_words)"
   ]
  },
  {
   "cell_type": "code",
   "execution_count": 16,
   "id": "ec418ff8-a284-49c9-b863-3aa4e52c2ada",
   "metadata": {
    "tags": []
   },
   "outputs": [
    {
     "name": "stdout",
     "output_type": "stream",
     "text": [
      "max_sequence_len: 166\n",
      "Total words: 6262\n",
      "Shape of train_x:  (30687, 165)  Type of train_x:  <class 'numpy.ndarray'>\n",
      "Shape of train_y:  (30687, 6262)  Type of train_y:  <class 'numpy.ndarray'>\n",
      "Shape of val_x:  (3250, 165)  Type of val_x:  <class 'numpy.ndarray'>\n",
      "Shape of val_y:  (3250, 6262)  Type of val_y:  <class 'numpy.ndarray'>\n",
      "Shape of test_x:  (3414, 165)  Type of test_x:  <class 'numpy.ndarray'>\n",
      "Shape of test_y:  (3414, 6262)  Type of test_y:  <class 'numpy.ndarray'>\n"
     ]
    }
   ],
   "source": [
    "# shape of predictor data should be (number of sequences, max sequence length - 1)\n",
    "# shape of target data should be (number of sequences, total_words)\n",
    "print(\"max_sequence_len:\", max_seq_len) \n",
    "print(\"Total words:\", total_words)\n",
    "print(\"Shape of train_x: \", train_x.shape, \" Type of train_x: \", type(train_x))\n",
    "print(\"Shape of train_y: \", train_y.shape, \" Type of train_y: \", type(train_y))\n",
    "print(\"Shape of val_x: \", val_x.shape, \" Type of val_x: \", type(val_x))\n",
    "print(\"Shape of val_y: \", val_y.shape, \" Type of val_y: \", type(val_y))\n",
    "print(\"Shape of test_x: \", test_x.shape, \" Type of test_x: \", type(test_x))\n",
    "print(\"Shape of test_y: \", test_y.shape, \" Type of test_y: \", type(test_y))"
   ]
  },
  {
   "cell_type": "code",
   "execution_count": 17,
   "id": "c4ecfb51-1835-4e0c-987f-9eaaf8a92bd7",
   "metadata": {},
   "outputs": [
    {
     "name": "stdout",
     "output_type": "stream",
     "text": [
      "Model: \"sequential\"\n",
      "_________________________________________________________________\n",
      " Layer (type)                Output Shape              Param #   \n",
      "=================================================================\n",
      " embedding (Embedding)       (None, 165, 100)          626200    \n",
      "                                                                 \n",
      " lstm (LSTM)                 (None, 100)               80400     \n",
      "                                                                 \n",
      " dense (Dense)               (None, 6262)              632462    \n",
      "                                                                 \n",
      "=================================================================\n",
      "Total params: 1339062 (5.11 MB)\n",
      "Trainable params: 1339062 (5.11 MB)\n",
      "Non-trainable params: 0 (0.00 Byte)\n",
      "_________________________________________________________________\n"
     ]
    }
   ],
   "source": [
    "# Model 1\n",
    "model = tf.keras.models.Sequential([\n",
    "        layers.Embedding(input_dim = total_words, output_dim = 100, input_length = max_seq_len-1),\n",
    "        layers.LSTM(100),\n",
    "        layers.Dense(total_words, activation='softmax'),\n",
    "    ])\n",
    "model.summary()"
   ]
  },
  {
   "cell_type": "code",
   "execution_count": 25,
   "id": "a82768a8-2060-4f8a-b31b-e72dc968e72f",
   "metadata": {
    "tags": []
   },
   "outputs": [
    {
     "name": "stdout",
     "output_type": "stream",
     "text": [
      "Epoch 1/20\n",
      "959/959 [==============================] - 84s 87ms/step - loss: 2.0295 - accuracy: 0.5797 - val_loss: 7.5604 - val_accuracy: 0.0942\n",
      "Epoch 2/20\n",
      "959/959 [==============================] - 83s 87ms/step - loss: 1.7513 - accuracy: 0.6508 - val_loss: 7.7078 - val_accuracy: 0.0892\n",
      "Epoch 3/20\n",
      "959/959 [==============================] - 84s 87ms/step - loss: 1.5953 - accuracy: 0.6793 - val_loss: 7.8684 - val_accuracy: 0.0877\n",
      "Epoch 4/20\n",
      "959/959 [==============================] - 84s 88ms/step - loss: 1.4657 - accuracy: 0.7067 - val_loss: 8.0580 - val_accuracy: 0.0905\n",
      "Epoch 5/20\n",
      "959/959 [==============================] - 84s 88ms/step - loss: 1.3560 - accuracy: 0.7270 - val_loss: 8.1791 - val_accuracy: 0.0920\n",
      "Epoch 6/20\n",
      "959/959 [==============================] - 88s 91ms/step - loss: 1.2572 - accuracy: 0.7446 - val_loss: 8.3514 - val_accuracy: 0.0865\n"
     ]
    }
   ],
   "source": [
    "callback = EarlyStopping(patience=5, monitor='val_loss') # stop training when validation accuracy doesn't improve\n",
    "model.compile(loss='categorical_crossentropy',\n",
    "              optimizer='adam',\n",
    "              metrics=['accuracy'])\n",
    "history = model.fit(train_x, train_y,\n",
    "                    epochs=20,\n",
    "                    validation_data=(val_x, val_y),\n",
    "                    verbose=1, callbacks=[callback])"
   ]
  },
  {
   "cell_type": "code",
   "execution_count": 26,
   "id": "77cc677a-bc72-4219-8339-89c6bd7e921e",
   "metadata": {
    "tags": []
   },
   "outputs": [
    {
     "data": {
      "text/plain": [
       "<matplotlib.legend.Legend at 0x3691e8dd0>"
      ]
     },
     "execution_count": 26,
     "metadata": {},
     "output_type": "execute_result"
    },
    {
     "data": {
      "image/png": "[encoded data removed]",
      "text/plain": [
       "<Figure size 640x480 with 1 Axes>"
      ]
     },
     "metadata": {},
     "output_type": "display_data"
    }
   ],
   "source": [
    "from matplotlib import pyplot as plt\n",
    "plt.plot(history.history[\"accuracy\"], label = \"training\")\n",
    "plt.plot(history.history[\"val_accuracy\"], label = \"validation\")\n",
    "plt.gca().set(xlabel = \"epoch\", ylabel = \"accuracy\")\n",
    "plt.legend()"
   ]
  },
  {
   "cell_type": "code",
   "execution_count": 27,
   "id": "b751c720-3ecf-46d5-b64c-0d6dd4085a86",
   "metadata": {
    "tags": []
   },
   "outputs": [
    {
     "data": {
      "image/png": "[encoded data removed]",
      "text/plain": [
       "<Figure size 1200x600 with 2 Axes>"
      ]
     },
     "metadata": {},
     "output_type": "display_data"
    }
   ],
   "source": [
    "def evaluate_model(model, history, test_x, test_y):\n",
    "    \"\"\"\n",
    "    This function creates plots using matplotlib to plot the model accuracy and loss across epochs for the training and \n",
    "    validation datasets. This function then prints out the loss and accuracy percent when the model is evaluated on the \n",
    "    testing datasets.\n",
    "    @param model: a tensorflow Sequential model\n",
    "    @param history: History callback object that keeps track of metrics for model\n",
    "    @param test_x: numpy array, representing predictor testing set\n",
    "    @param test_y: numpy array, representing target testing set\n",
    "    \"\"\"\n",
    "    \n",
    "    plt.figure(figsize=(12, 6))\n",
    "\n",
    "    # plot training & validation model accuracy across epochs\n",
    "    plt.subplot(1, 2, 1)\n",
    "    plt.plot(history.history['accuracy'])\n",
    "    plt.plot(history.history['val_accuracy'])\n",
    "    plt.title('Model accuracy')\n",
    "    plt.ylabel('Accuracy')\n",
    "    plt.xlabel('Epoch')\n",
    "    plt.legend(['Training', 'Validation'], loc='upper left')\n",
    "\n",
    "    # plot training & validation model loss values across epochs\n",
    "    plt.subplot(1, 2, 2)\n",
    "    plt.plot(history.history['loss'])\n",
    "    plt.plot(history.history['val_loss'])\n",
    "    plt.title('Model loss')\n",
    "    plt.ylabel('Loss')\n",
    "    plt.xlabel('Epoch')\n",
    "    plt.legend(['Training', 'Validation'], loc='upper left')\n",
    "\n",
    "    plt.tight_layout()\n",
    "    plt.show()\n",
    "    \n",
    "    loss, accuracy = model.evaluate(test_x, test_y, verbose=0)\n",
    "    print(f'Test accuracy: {accuracy*100:.2f}%, Test loss: {loss}')"
   ]
  },
  {
   "cell_type": "code",
   "execution_count": null,
   "id": "63a1fe4b-9856-4fc1-beaa-f42eafc19acd",
   "metadata": {},
   "outputs": [],
   "source": []
  },
  {
   "cell_type": "code",
   "execution_count": 29,
   "id": "9ec1e9e5-7c9f-4929-8315-913e43944521",
   "metadata": {
    "tags": []
   },
   "outputs": [
    {
     "name": "stdout",
     "output_type": "stream",
     "text": [
      "The movie was about a psychic woman tory who returns to her hometown and begins reliving her traumatic childhood past the death of her childhood friend and abusive father tory discovers that her friend was the first installment of their flight by a forgotten desert one lone survivor attempting to rekindle his sanity\n"
     ]
    }
   ],
   "source": [
    "def generate_review(model, tokenizer, seed_text, max_sequence_len, review_length):\n",
    "    \"\"\"\n",
    "    Generate a review from a seed text.\n",
    "\n",
    "    Parameters:\n",
    "    - model: Trained Keras model for text generation.\n",
    "    - tokenizer: Tokenizer used for training the model.\n",
    "    - seed_text: Initial text to start the review generation.\n",
    "    - max_sequence_len: Maximum length of sequences used during training.\n",
    "    - review_length: Desired length of the generated review.\n",
    "\n",
    "    Returns:\n",
    "    - A string containing the generated review.\n",
    "    \"\"\"\n",
    "    for _ in range(review_length):\n",
    "        # tokenize current text\n",
    "        token_list = tokenizer.texts_to_sequences([seed_text])[0]\n",
    "        # pad sequence\n",
    "        token_list = pad_sequences([token_list], maxlen=max_sequence_len-1, padding='pre')\n",
    "        # predict next word (probability distribution over vocab)\n",
    "        predicted = model.predict(token_list, verbose=0)\n",
    "        # convert to single word index\n",
    "        predicted_index = np.argmax(predicted, axis=-1)[0]\n",
    "        # convert word index back to word\n",
    "        output_word = \"\"\n",
    "        for word, index in tokenizer.word_index.items():\n",
    "            if index == predicted_index:\n",
    "                output_word = word\n",
    "                break\n",
    "        # append predicted word to text\n",
    "        seed_text += \" \" + output_word\n",
    "        # consider putting stopping criterion?\n",
    "        # EX:  if output_word == 'endToken': break\n",
    "    return seed_text\n",
    "\n",
    "# Example usage\n",
    "# Assuming you have a 'tokenizer' that was used during model training\n",
    "seed_text = \"The movie was\"\n",
    "review_length = 50  # Generate a review of approximately 50 words\n",
    "generated_review = generate_review(model, tokenizer, seed_text, max_seq_len, review_length)\n",
    "print(generated_review)"
   ]
  },
  {
   "cell_type": "code",
   "execution_count": null,
   "id": "9d815706-2aea-4c52-8908-70902f8f13a6",
   "metadata": {},
   "outputs": [],
   "source": []
  }
 ],
 "metadata": {
  "kernelspec": {
   "display_name": "Python [conda env:PIC16B-2] *",
   "language": "python",
   "name": "conda-env-PIC16B-2-py"
  },
  "language_info": {
   "codemirror_mode": {
    "name": "ipython",
    "version": 3
   },
   "file_extension": ".py",
   "mimetype": "text/x-python",
   "name": "python",
   "nbconvert_exporter": "python",
   "pygments_lexer": "ipython3",
   "version": "3.11.6"
  }
 },
 "nbformat": 4,
 "nbformat_minor": 5
}
