{
 "cells": [
  {
   "cell_type": "code",
   "execution_count": 1,
   "id": "9e17ee94-c7e1-469d-871b-b602d33ea019",
   "metadata": {},
   "outputs": [],
   "source": [
    "import pandas as pd\n",
    "\n",
    "# Module for working with regular expressions\n",
    "import re\n",
    "\n",
    "\n",
    "from nltk.tokenize import word_tokenize\n",
    "from nltk.corpus import stopwords\n",
    "from nltk.stem import WordNetLemmatizer"
   ]
  },
  {
   "cell_type": "code",
   "execution_count": 2,
   "id": "7bee2bdf-99ea-4751-9621-40ac01c5714c",
   "metadata": {},
   "outputs": [],
   "source": [
    "# Read in the data\n",
    "raw_data = pd.read_csv('IMDB Dataset.csv')"
   ]
  },
  {
   "cell_type": "code",
   "execution_count": 3,
   "id": "a3fab8e7-9bf8-443f-a484-2472394dcf63",
   "metadata": {},
   "outputs": [],
   "source": [
    "# Reduce the data to the movie review\n",
    "data = raw_data['review']"
   ]
  },
  {
   "cell_type": "code",
   "execution_count": 4,
   "id": "93bf5eb7-a567-4bb0-ae87-ab520532d5b6",
   "metadata": {},
   "outputs": [
    {
     "data": {
      "text/plain": [
       "count                                                 50000\n",
       "unique                                                49582\n",
       "top       Loved today's show!!! It was a variety and not...\n",
       "freq                                                      5\n",
       "Name: review, dtype: object"
      ]
     },
     "execution_count": 4,
     "metadata": {},
     "output_type": "execute_result"
    }
   ],
   "source": [
    "# Look at data description\n",
    "data.describe()"
   ]
  },
  {
   "cell_type": "code",
   "execution_count": 5,
   "id": "37526dfd-ac58-4dc1-ac8d-7e438c7ed605",
   "metadata": {},
   "outputs": [],
   "source": [
    "# Remove duplicates\n",
    "data = data.drop_duplicates()"
   ]
  },
  {
   "cell_type": "code",
   "execution_count": 6,
   "id": "4ea659bc-3374-4aa5-9e07-09d72166436e",
   "metadata": {},
   "outputs": [],
   "source": [
    "# Convert to lowercase\n",
    "data = data.str.lower()"
   ]
  },
  {
   "cell_type": "code",
   "execution_count": 7,
   "id": "15d3d11e-7946-4db0-be28-4a24395520ed",
   "metadata": {},
   "outputs": [],
   "source": [
    "# Remove HTML tags\n",
    "data = data.apply(lambda x: re.sub('<.*?>', ' ', x)) # Replace anything between <> with a space"
   ]
  },
  {
   "cell_type": "code",
   "execution_count": 8,
   "id": "5b8df3cc-65cb-4c6a-ba27-ae3ad797cdad",
   "metadata": {},
   "outputs": [],
   "source": [
    "# Remove punctuation\n",
    "data = data.apply(lambda x: re.sub(r'[^\\w\\s]', '', x))"
   ]
  }
 ],
 "metadata": {
  "kernelspec": {
   "display_name": "Python 3 (ipykernel)",
   "language": "python",
   "name": "python3"
  },
  "language_info": {
   "codemirror_mode": {
    "name": "ipython",
    "version": 3
   },
   "file_extension": ".py",
   "mimetype": "text/x-python",
   "name": "python",
   "nbconvert_exporter": "python",
   "pygments_lexer": "ipython3",
   "version": "3.9.7"
  }
 },
 "nbformat": 4,
 "nbformat_minor": 5
}
